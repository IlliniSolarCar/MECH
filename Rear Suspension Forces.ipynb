{
 "cells": [
  {
   "cell_type": "code",
   "execution_count": 2,
   "metadata": {},
   "outputs": [],
   "source": [
    "import numpy as np\n",
    "import math as mat"
   ]
  },
  {
   "cell_type": "code",
   "execution_count": 3,
   "metadata": {},
   "outputs": [],
   "source": [
    "from sympy import *"
   ]
  },
  {
   "cell_type": "code",
   "execution_count": 97,
   "metadata": {},
   "outputs": [
    {
     "data": {
      "text/latex": [
       "$\\displaystyle \\left[\\begin{matrix}0\\\\0.4\\\\0.279\\end{matrix}\\right]$"
      ],
      "text/plain": [
       "Matrix([\n",
       "[    0],\n",
       "[  0.4],\n",
       "[0.279]])"
      ]
     },
     "execution_count": 97,
     "metadata": {},
     "output_type": "execute_result"
    }
   ],
   "source": [
    "#READ ME!!!\n",
    "#enter points here\n",
    "#ONLY change whatever is written in this box do not change anything else!!!!!!!\n",
    "# Refer to diagrams to understand assumptions and labeling\n",
    "#After putting inputs run all code with shift+enter and once you reach the bottom cell you can read a nice output\n",
    "g=9.81\n",
    "mass=52 #kg mass on singular rear wheel\n",
    "\n",
    "Lower_Aft=Matrix([0,400,279])*10**-3\n",
    "# Lower_Fore=Matrix([-120,400,279])*10**-3\n",
    "Lower_Kingpin=Matrix([0,0,279])*10**-3\n",
    "\n",
    "Upper_Aft=Matrix([50,400,600])*10**-3\n",
    "Upper_Fore=Matrix([-120,400,600])*10**-3\n",
    "Upper_Kingpin=Matrix([0,0,599])*10**-3 #prob here; did 599 instead of 600\n",
    "\n",
    "# Tierod_Kingpin=Matrix([-74.47,258.03,506.738])*10**-3\n",
    "# Tierod_Mount=Matrix([-74.47,144.78,506.738])*10**-3\n",
    "\n",
    "Contact_Patch=Matrix([100,0,0])*10**-3\n",
    "\n",
    "SA_Lowerarms=Matrix([0,100,290])*10**-3\n",
    "SA_Chassis=Matrix([0,400,560])*10**-3\n",
    "\n",
    "Force=Matrix([g*mass,g*mass,0.2*g*mass]) #condition set here\n",
    "#with a 3 wheel car it (z-direction) should actually be 1g+0.5 g of what the rear wheel carries. So apart from race (ASC) regulatory calculations this is the correct calc:\n",
    "#Force[2]=-(56.59*0.5+mass)*g\n",
    "\n",
    "Lower_Aft"
   ]
  },
  {
   "cell_type": "code",
   "execution_count": 98,
   "metadata": {},
   "outputs": [],
   "source": [
    "#Normalizing all vectors as directions of the forces we'll be using a.k.a. directions of the arms\n",
    "#Refer my notes on Slack for what c b d e f means \n",
    "Upper_Fore_Arm=Upper_Fore-Upper_Kingpin\n",
    "Upper_Aft_Arm=Upper_Aft-Upper_Kingpin\n",
    "Lower_Aft_Arm=Lower_Aft-Lower_Kingpin\n",
    "# Lower_Fore_Arm=Lower_Fore-Lower_Kingpin\n",
    "# Steering_Arm=Tierod_Mount-Tierod_Kingpin\n",
    "SA_dir=(SA_Chassis-SA_Lowerarms)/((SA_Chassis-SA_Lowerarms).norm())\n",
    "# c=Lower_Fore_Arm/Lower_Fore_Arm.norm()\n",
    "b=Lower_Aft_Arm/Lower_Aft_Arm.norm()\n",
    "d=Upper_Aft_Arm/Upper_Aft_Arm.norm()\n",
    "e=Upper_Fore_Arm/Upper_Fore_Arm.norm()\n",
    "# f=Steering_Arm/Steering_Arm.norm()\n",
    "g=SA_dir\n",
    "#Now setting up unknowns \n",
    "#the uknowns are the magnitudes of forces acting at the direction of the arms\n",
    "#I say magnitudes but these are 2 force members so they might end up giving negative results which means the 2 force member is in compression or positive if it's in tension.\n",
    "fb,fc,fd,fe,fg=symbols('fb,fc,fd,fe,fg')\n",
    "\n",
    "#Setting up force vectors\n",
    "\n",
    "Fb=fb*b\n",
    "# Fc=fc*c\n",
    "Fd=fd*d\n",
    "Fe=fe*e\n",
    "# Ff=ff*f\n",
    "Fg=-599*g\n",
    "\n",
    "#Knowns\n",
    "Fa=Force\n"
   ]
  },
  {
   "cell_type": "code",
   "execution_count": 99,
   "metadata": {},
   "outputs": [],
   "source": [
    "#Body is wheel + kingpin\n",
    "#  moment origin point is contact patch\n",
    "#I'll use this moment equation but can use any one of these for proving or sth else idk\n",
    "#Moment arms\n",
    "L=Upper_Kingpin-Contact_Patch\n",
    "K=Lower_Kingpin-Contact_Patch\n",
    "# M=Tierod_Kingpin-Contact_Patch\n",
    "LL=SA_Lowerarms-Contact_Patch\n",
    "\n",
    "\n",
    "#Moments\n",
    "#notice 2 arms act at the same point so you need to add their moments\n",
    "# MK=K.cross(Fb)+K.cross(Fc)#=0\n",
    "MK=K.cross(Fb)\n",
    "\n",
    "ML=L.cross(Fd)+L.cross(Fe)\n",
    "\n",
    "# MM=M.cross(Ff)\n",
    "MLL=LL.cross(Fg)"
   ]
  },
  {
   "cell_type": "code",
   "execution_count": 104,
   "metadata": {},
   "outputs": [
    {
     "data": {
      "text/plain": [
       "[]"
      ]
     },
     "execution_count": 104,
     "metadata": {},
     "output_type": "execute_result"
    }
   ],
   "source": [
    "#Equations\n",
    "\n",
    "# Eq1=Eq(MK+MLL+ML+MM,Matrix([0,0,0])) #this used\n",
    "Eq1=Eq(MK+MLL+ML,Matrix([0,0,0])) #this used\n",
    "\n",
    "#Also sum of all forces\n",
    "Eq5=Eq(Fb+Fd+Fe,Fa)\n",
    "# Eq5=Eq(Fb+Fc+Fd+Fe,Fa)\n",
    "#bottom all 3 direction, top x can't be a force cause it needs a moment around that axis\n",
    "#that adjustment was made beforehand\n",
    "\n",
    "\n",
    "sol=solve((Eq1,Eq5),(fb,fd,fe))\n",
    "\n",
    "sol"
   ]
  },
  {
   "cell_type": "code",
   "execution_count": 104,
   "metadata": {},
   "outputs": [
    {
     "data": {
      "text/latex": [
       "$\\displaystyle \\left[\\begin{matrix}0\\\\0.4\\\\0.28\\end{matrix}\\right]$"
      ],
      "text/plain": [
       "Matrix([\n",
       "[   0],\n",
       "[ 0.4],\n",
       "[0.28]])"
      ]
     },
     "execution_count": 104,
     "metadata": {},
     "output_type": "execute_result"
    }
   ],
   "source": [
    "#START HERE\n",
    "\n",
    "#READ ME!!!\n",
    "#enter points here\n",
    "#ONLY change whatever is written in this box do not change anything else!!!!!!!\n",
    "# Refer to diagrams to understand assumptions and labeling\n",
    "#After putting inputs run all code with shift+enter and once you reach the bottom cell you can read a nice output\n",
    "g=9.81\n",
    "mass=52 #kg mass on singular front wheel\n",
    "\n",
    "Lower_Aft=Matrix([0,400,280])*10**-3\n",
    "Lower_Fore=Matrix([-120,400,280])*10**-3\n",
    "Lower_Kingpin=Matrix([0,0,280])*10**-3\n",
    "\n",
    "Upper_Aft=Matrix([50,400,600])*10**-3\n",
    "Upper_Fore=Matrix([-120,400,600])*10**-3\n",
    "Upper_Kingpin=Matrix([0,0,600])*10**-3 #prob here; did 599 instead of 600\n",
    "\n",
    "Tierod_Kingpin=Matrix([0,0,0])*10**-3\n",
    "Tierod_Mount=Matrix([0,0,0.1])*10**-3\n",
    "\n",
    "Contact_Patch=Matrix([100,0,0])*10**-3\n",
    "\n",
    "SA_Lowerarms=Matrix([0,100,290])*10**-3\n",
    "SA_Chassis=Matrix([0,400,560])*10**-3\n",
    "\n",
    "Force=Matrix([g*mass,g*mass,g*mass]) #condition set here\n",
    "#with a 3 wheel car it (z-direction) should actually be 1g+0.5 g of what the rear wheel carries. So apart from race (ASC) regulatory calculations this is the correct calc:\n",
    "#Force[2]=-(56.59*0.5+mass)*g\n",
    "\n",
    "Lower_Aft"
   ]
  },
  {
   "cell_type": "code",
   "execution_count": 105,
   "metadata": {},
   "outputs": [],
   "source": [
    "#Normalizing all vectors as directions of the forces we'll be using a.k.a. directions of the arms\n",
    "#Refer my notes on Slack for what c b d e f means \n",
    "Upper_Fore_Arm=Upper_Fore-Upper_Kingpin\n",
    "Upper_Aft_Arm=Upper_Aft-Upper_Kingpin\n",
    "Lower_Aft_Arm=Lower_Aft-Lower_Kingpin\n",
    "Lower_Fore_Arm=Lower_Fore-Lower_Kingpin\n",
    "Steering_Arm=Tierod_Mount-Tierod_Kingpin\n",
    "SA_dir=(SA_Chassis-SA_Lowerarms)/((SA_Chassis-SA_Lowerarms).norm())\n",
    "c=Lower_Fore_Arm/Lower_Fore_Arm.norm()\n",
    "b=Lower_Aft_Arm/Lower_Aft_Arm.norm()\n",
    "d=Upper_Aft_Arm/Upper_Aft_Arm.norm()\n",
    "e=Upper_Fore_Arm/Upper_Fore_Arm.norm()\n",
    "f=Steering_Arm/Steering_Arm.norm()\n",
    "g=SA_dir\n",
    "#Now setting up unknowns \n",
    "#the uknowns are the magnitudes of forces acting at the direction of the arms\n",
    "#I say magnitudes but these are 2 force members so they might end up giving negative results which means the 2 force member is in compression or positive if it's in tension.\n",
    "fb,fc,fd,fe,ff,fg=symbols('fb,fc,fd,fe,ff,fg')\n",
    "\n",
    "#Setting up force vectors\n",
    "\n",
    "Fb=fb*b\n",
    "Fc=fc*c\n",
    "Fd=fd*d\n",
    "Fe=fe*e\n",
    "Ff=ff*f\n",
    "Fg=fg*g\n",
    "\n",
    "#Knowns\n",
    "Fa=Force"
   ]
  },
  {
   "cell_type": "code",
   "execution_count": 106,
   "metadata": {},
   "outputs": [],
   "source": [
    "#Body is wheel + kingpin\n",
    "#  moment origin point is contact patch\n",
    "#I'll use this moment equation but can use any one of these for proving or sth else idk\n",
    "\n",
    "#Moment arms\n",
    "L=Upper_Kingpin-Contact_Patch\n",
    "K=Lower_Kingpin-Contact_Patch\n",
    "M=Tierod_Kingpin-Contact_Patch\n",
    "LL=SA_Lowerarms-Contact_Patch\n",
    "\n",
    "#Moments\n",
    "#notice 2 arms act at the same point so you need to add their moments\n",
    "MK=K.cross(Fb)+K.cross(Fc)#=0\n",
    "\n",
    "ML=L.cross(Fd)+L.cross(Fe)\n",
    "\n",
    "MM=M.cross(Ff)\n",
    "MLL=LL.cross(Fg)\n",
    "MM = Matrix([0,0.000000000000000000000000000001*ff,0])"
   ]
  },
  {
   "cell_type": "code",
   "execution_count": 108,
   "metadata": {},
   "outputs": [
    {
     "data": {
      "text/plain": [
       "{fb: 3347.66250000001,\n",
       " fc: -2829.33611429790,\n",
       " fd: -808.935523371584,\n",
       " fe: 704.886505984251,\n",
       " ff: 510.120000000000,\n",
       " fg: -686.296269889324}"
      ]
     },
     "execution_count": 108,
     "metadata": {},
     "output_type": "execute_result"
    }
   ],
   "source": [
    "#Equations\n",
    "\n",
    "\n",
    "\n",
    "Eq1=Eq(MK+MLL+ML+MM,Matrix([0,0,0])) #this used\n",
    "\n",
    "#Also sum of all forces\n",
    "Eq5=Eq(Fb+Fc+Fd+Fe+Ff,Fa)\n",
    "#bottom all 3 direction, top x can't be a force cause it needs a moment around that axis\n",
    "#that adjustment was made beforehand\n",
    "\n",
    "\n",
    "sol=solve((Eq1,Eq5),(fb,fc,fd,fe,ff,fg))\n",
    "\n",
    "sol"
   ]
  }
 ],
 "metadata": {
  "kernelspec": {
   "display_name": "base",
   "language": "python",
   "name": "python3"
  },
  "language_info": {
   "codemirror_mode": {
    "name": "ipython",
    "version": 3
   },
   "file_extension": ".py",
   "mimetype": "text/x-python",
   "name": "python",
   "nbconvert_exporter": "python",
   "pygments_lexer": "ipython3",
   "version": "3.8.5"
  },
  "vscode": {
   "interpreter": {
    "hash": "dd77af8b84198833f4bba91cf98877bd5c94f539d4a2b9ebb476d1f2443f9ec4"
   }
  }
 },
 "nbformat": 4,
 "nbformat_minor": 4
}
