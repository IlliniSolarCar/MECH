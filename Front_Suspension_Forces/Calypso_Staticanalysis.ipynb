{
 "cells": [
  {
   "cell_type": "code",
   "execution_count": 32,
   "id": "70cb2619",
   "metadata": {},
   "outputs": [],
   "source": [
    "import numpy as np\n",
    "import math as mat"
   ]
  },
  {
   "cell_type": "code",
   "execution_count": 33,
   "id": "ce6b4987",
   "metadata": {},
   "outputs": [],
   "source": [
    "from sympy import *"
   ]
  },
  {
   "cell_type": "code",
   "execution_count": 74,
   "id": "b85512b5",
   "metadata": {},
   "outputs": [
    {
     "data": {
      "text/latex": [
       "$\\displaystyle \\left[\\begin{matrix}-0.2\\\\0.03\\\\0.1612\\end{matrix}\\right]$"
      ],
      "text/plain": [
       "Matrix([\n",
       "[  -0.2],\n",
       "[  0.03],\n",
       "[0.1612]])"
      ]
     },
     "execution_count": 74,
     "metadata": {},
     "output_type": "execute_result"
    }
   ],
   "source": [
    "#READ ME!!!\n",
    "#enter points here\n",
    "#ONLY change whatever is written in this box do not change anything else!!!!!!!\n",
    "# Refer to diagrams to understand assumptions and labeling\n",
    "#After putting inputs run all code with shift+enter and once you reach the bottom cell you can read a nice output\n",
    "g=-9.81\n",
    "mass=114.2 #kg mass on singular front wheel\n",
    "\n",
    "Lower_Aft=Matrix([-200,30,161.2])*10**-3\n",
    "Lower_Fore=Matrix([157,30,161.2])*10**-3\n",
    "Lower_Kingpin=Matrix([75,349.5,161.2])*10**-3\n",
    "\n",
    "Upper_Aft=Matrix([-23.089,33.6,539.1])*10**-3\n",
    "Upper_Fore=Matrix([199.56,33.6,539.1])*10**-3\n",
    "Upper_Kingpin=Matrix([35,285.5,560.1])*10**-3\n",
    "\n",
    "Tierod_Kingpin=Matrix([-74.47,258.03,506.738])*10**-3\n",
    "Tierod_Mount=Matrix([-74.47,144.78,506.738])*10**-3\n",
    "\n",
    "Contact_Patch=Matrix([0,427.5+50,0])*10**-3\n",
    "\n",
    "SA_Lowerarms=Matrix([60,240,400])*10**-3\n",
    "SA_Chassis=Matrix([60,290,161.2])*10**-3\n",
    "\n",
    "Force=Matrix([g*mass,g*mass,-2*g*mass]) #condition set here\n",
    "#with a 3 wheel car it (z-direction) should actually be 1g+0.5 g of what the rear wheel carries. So apart from race (ASC) regulatory calculations this is the correct calc:\n",
    "Force[2]=-(56.59*0.5+mass)*g\n",
    "\n",
    "Lower_Aft\n"
   ]
  },
  {
   "cell_type": "code",
   "execution_count": 91,
   "id": "10cf9d37",
   "metadata": {},
   "outputs": [
    {
     "data": {
      "text/latex": [
       "$\\displaystyle \\left[\\begin{matrix}3.19956\\\\0.0336\\\\0.5391\\end{matrix}\\right]$"
      ],
      "text/plain": [
       "Matrix([\n",
       "[3.19956],\n",
       "[ 0.0336],\n",
       "[ 0.5391]])"
      ]
     },
     "execution_count": 91,
     "metadata": {},
     "output_type": "execute_result"
    }
   ],
   "source": [
    "#since the origin of x axis goes through the middle of this system the cell below will not give accurate answers, so I adjust my origin (not necessary for Y and Z) so all of them becomes pos.\n",
    "\n"
   ]
  },
  {
   "cell_type": "code",
   "execution_count": 95,
   "id": "56c94100",
   "metadata": {},
   "outputs": [
    {
     "data": {
      "text/latex": [
       "$\\displaystyle 0$"
      ],
      "text/plain": [
       "0"
      ]
     },
     "execution_count": 95,
     "metadata": {},
     "output_type": "execute_result"
    }
   ],
   "source": [
    "#Normalizing all vectors as directions of the forces we'll be using a.k.a. directions of the arms\n",
    "#Refer my notes on Slack for what c b d e f means \n",
    "Upper_Fore_Arm=Upper_Fore-Upper_Kingpin\n",
    "Upper_Aft_Arm=Upper_Aft-Upper_Kingpin\n",
    "Lower_Aft_Arm=Lower_Aft-Lower_Kingpin\n",
    "Lower_Fore_Arm=Lower_Fore-Lower_Kingpin\n",
    "Steering_Arm=Tierod_Mount-Tierod_Kingpin\n",
    "SA_dir=(SA_Chassis-SA_Lowerarms)/((SA_Chassis-SA_Lowerarms).norm())\n",
    "c=Lower_Fore_Arm/Lower_Fore_Arm.norm()\n",
    "b=Lower_Aft_Arm/Lower_Aft_Arm.norm()\n",
    "d=Upper_Aft_Arm/Upper_Aft_Arm.norm()\n",
    "e=Upper_Fore_Arm/Upper_Fore_Arm.norm()\n",
    "f=Steering_Arm/Steering_Arm.norm()\n",
    "g=SA_dir\n",
    "#Now setting up unknowns \n",
    "#the uknowns are the magnitudes of forces acting at the direction of the arms\n",
    "#I say magnitudes but these are 2 force members so they might end up giving negative results which means the 2 force member is in compression or positive if it's in tension.\n",
    "fb,fc,fd,fe,ff,fg=symbols('fb,fc,fd,fe,ff,fg')\n",
    "\n",
    "#Setting up force vectors\n",
    "Fb=fb*b\n",
    "Fc=fc*c\n",
    "Fd=fd*d\n",
    "Fe=fe*e\n",
    "Ff=ff*f\n",
    "Fg=fg*g\n",
    "\n",
    "#Knowns\n",
    "Fa=Force\n"
   ]
  },
  {
   "cell_type": "code",
   "execution_count": 88,
   "id": "c91fb3fc",
   "metadata": {},
   "outputs": [],
   "source": [
    "#Body is wheel + kingpin\n",
    "#  moment origin point is contact patch\n",
    "#I'll use this moment equation but can use any one of these for proving or sth else idk\n",
    "\n",
    "#Moment arms\n",
    "L=Upper_Kingpin-Contact_Patch\n",
    "K=Lower_Kingpin-Contact_Patch\n",
    "M=Tierod_Kingpin-Contact_Patch\n",
    "LL=SA_Lowerarms-Contact_Patch\n",
    "\n",
    "#Moments\n",
    "#notice 2 arms act at the same point so you need to add their moments\n",
    "MK=K.cross(Fb)+K.cross(Fc)+K.cross(Fg)\n",
    "ML=L.cross(Fd)+L.cross(Fe)\n",
    "MM=M.cross(Ff)\n",
    "\n"
   ]
  },
  {
   "cell_type": "code",
   "execution_count": 89,
   "id": "a0180e96",
   "metadata": {},
   "outputs": [],
   "source": [
    "#If you want to use other moment origins for calculations where you see for example what would be the braking force if you have x amount of force on an arm you can use these equations.\n",
    "# origin point is lower arm kingpin attachment\n",
    "\n",
    "#Moment arms\n",
    "Q=Contact_Patch-Lower_Kingpin\n",
    "O=Upper_Kingpin-Lower_Kingpin\n",
    "P=Tierod_Kingpin-Lower_Kingpin\n",
    "\n",
    "#Moments\n",
    "MQ=Q.cross(Fa)\n",
    "MO=O.cross(Fd)+O.cross(Fe)\n",
    "MP=P.cross(Ff)\n",
    "\n",
    "#origin point is upper arm kingpin attachment\n",
    "\n",
    "#Moment arms\n",
    "\n",
    "R=Tierod_Kingpin-Upper_Kingpin\n",
    "S=Lower_Kingpin-Upper_Kingpin\n",
    "T=Contact_Patch-Upper_Kingpin\n",
    "\n",
    "#Moments\n",
    "\n",
    "MR=R.cross(Ff)\n",
    "MS=S.cross(Fb)+S.cross(Fc)\n",
    "MT=T.cross(Fa)\n",
    "\n",
    "#origin point is tierod kingpin attachment\n",
    "\n",
    "#Moment arms\n",
    "U=Upper_Kingpin-Tierod_Kingpin\n",
    "V=Lower_Kingpin-Tierod_Kingpin\n",
    "Y=Contact_Patch-Tierod_Kingpin\n",
    "\n",
    "#Moments\n",
    "MU=U.cross(Fd)+U.cross(Fe)\n",
    "MV=V.cross(Fb)+V.cross(Fc)\n",
    "MY=Y.cross(Ff)\n",
    "\n",
    "Eq2=Eq(MQ+MO+MP,Matrix([0,0,0]))\n",
    "Eq3=Eq(MR+MS+MT,Matrix([0,0,0]))\n",
    "Eq4=Eq(MU+MV+MY,Matrix([0,0,0]))"
   ]
  },
  {
   "cell_type": "code",
   "execution_count": 90,
   "id": "fb5d342c",
   "metadata": {},
   "outputs": [
    {
     "data": {
      "text/plain": [
       "{fb: -312937.389349940,\n",
       " fc: 274566.551580831,\n",
       " fd: 328773.917853819,\n",
       " fe: -362262.869603095,\n",
       " ff: -46655.3747992824,\n",
       " fg: 101300.365839559}"
      ]
     },
     "execution_count": 90,
     "metadata": {},
     "output_type": "execute_result"
    }
   ],
   "source": [
    "#Equations\n",
    "\n",
    "Eq1=Eq(MK+ML+MM,Matrix([0,0,0])) #this used\n",
    "\n",
    "#Also sum of all forces\n",
    "Eq5=Eq(Fb+Fc+Fd+Fe+Ff,-Fa)\n",
    "\n",
    "#God help us so python solves this\n",
    "\n",
    "sol=solve((Eq1,Eq5),(fb,fc,fd,fe,ff,fg))\n",
    "sol\n"
   ]
  },
  {
   "cell_type": "code",
   "execution_count": null,
   "id": "79b37f0a",
   "metadata": {},
   "outputs": [],
   "source": []
  },
  {
   "cell_type": "code",
   "execution_count": 80,
   "id": "29abfab9",
   "metadata": {},
   "outputs": [],
   "source": [
    "#Calculations regarding the shock absorber \n",
    "#Shock absorber as rigid body, two force member\n",
    "#Body is lower control arms, refer to diagrams\n",
    "#\n",
    "#Shock absorber direction\n",
    "#SA_dir=(SA_Lowerarms-SA_Chassis)/((SA_Lowerarms-SA_Chassis).norm())\n",
    "#\n",
    "#Shock absorber unknown force magnitude, force vector, acc -> force that comes from a bump that moves the shock absorber \n",
    "#fg=symbols('fg')\n",
    "#lower_kingpin_reaction=symbols('lower_kingpin_reaction')\n",
    "#Fg=fg*SA_dir\n",
    "#lkrx,lkry,lkrz=symbols('lkrx,lkry,lkrz',real=True) #Lower_kingpin_reaction directions\n",
    "#LKR=Matrix([lkrx,lkry,lkrz])#Lower_Kingpin_reaction direction vector\n",
    "#LKR=LKR/LKR.norm() #Lower kingpin reaction unit vector\n",
    "#FLKR=lower_kingpin_reaction*LKR\n",
    "\n",
    "#5 unknowns. 3 dimensional reaction force on the joint. Free to rotate (without getting out of the range provided by the rod-end)\n",
    "#Plug in previously obtained values \n",
    "#Fb=Fb.subs(fb,sol[fb])\n",
    "#Fc=Fc.subs(fc,sol[fc])\n",
    "\n",
    "#Set moment arms, moment origin lower kingpin\n",
    "#W=SA_Lowerarms-Lower_Kingpin\n",
    "#X=Lower_Fore-Lower_Kingpin\n",
    "#Z=Lower_Aft-Lower_Kingpin\n",
    "#\n",
    "#Moments\n",
    "#MW=W.cross(Fg)\n",
    "#MX=X.cross(Fc)\n",
    "#MZ=Z.cross(Fb)\n",
    "#\n",
    "#Eq11=Eq(Fb+Fc+Fg+LKR,Matrix([0,0,0]))\n",
    "#Eq12=Eq(MW+MX+MZ,Matrix([0,0,0]))\n",
    "#sol2=solve((Eq11),(fg,lkrx,lkry,lkrz))\n",
    "#sol2\n",
    "\n"
   ]
  },
  {
   "cell_type": "code",
   "execution_count": 81,
   "id": "465aaa47",
   "metadata": {},
   "outputs": [
    {
     "data": {
      "text/plain": [
       "(Matrix([\n",
       " [1, 0, 0, 0, 0, -2678.29240024063],\n",
       " [0, 1, 0, 0, 0, -634.509863920523],\n",
       " [0, 0, 1, 0, 0,  2927.00133928385],\n",
       " [0, 0, 0, 1, 0,  333.296154699949],\n",
       " [0, 0, 0, 0, 1, -2707.12079609401]]),\n",
       " (0, 1, 2, 3, 4))"
      ]
     },
     "execution_count": 81,
     "metadata": {},
     "output_type": "execute_result"
    }
   ],
   "source": [
    "#another thing I did to validate results (they will be minimally different since I used bad sig figs)\n",
    "\n",
    "Trial= Matrix ([[-122.178,-156.14,-559.53,-481.14,-506.74,0],[105.16, -40.07,122.61,-308,0,0],[140.34,40.83,76.99,-75.52,-74.47,0],[0.65,-0.25,0.22,-0.546,0,-1120.302],[0.76,0.97,0.97,0.835,1,-2240.604]])\n",
    "Trial.rref()"
   ]
  },
  {
   "cell_type": "code",
   "execution_count": 82,
   "id": "c52d7a7e",
   "metadata": {},
   "outputs": [
    {
     "data": {
      "text/plain": [
       "(-167.01440376641838, 146.84441420323824)"
      ]
     },
     "execution_count": 82,
     "metadata": {},
     "output_type": "execute_result"
    }
   ],
   "source": [
    "aft_angle=mat.atan2(d[0],d[1])\n",
    "aft_angle=np.degrees(aft_angle)\n",
    "fore_angle=mat.atan2(e[0],e[1])\n",
    "fore_angle=np.degrees(fore_angle)\n",
    "aft_angle, fore_angle"
   ]
  },
  {
   "cell_type": "code",
   "execution_count": 83,
   "id": "38b0204e",
   "metadata": {},
   "outputs": [
    {
     "data": {
      "text/latex": [
       "$\\displaystyle \\left[\\begin{matrix}- 0.652352850773121 fb\\\\- 0.757915402989135 fb\\\\0\\end{matrix}\\right]$"
      ],
      "text/plain": [
       "Matrix([\n",
       "[-0.652352850773121*fb],\n",
       "[-0.757915402989135*fb],\n",
       "[                    0]])"
      ]
     },
     "execution_count": 83,
     "metadata": {},
     "output_type": "execute_result"
    }
   ],
   "source": [
    "Fb"
   ]
  },
  {
   "cell_type": "code",
   "execution_count": 84,
   "id": "4dcd72e8",
   "metadata": {},
   "outputs": [],
   "source": [
    "\n",
    "\n",
    "\n",
    "Fb=Fb.subs(fb,sol[fb])\n",
    "Fc=Fc.subs(fc,sol[fc])\n",
    "Fd=Fd.subs(fd,sol[fd])\n",
    "Fe=Fe.subs(fe,sol[fe])\n",
    "Ff=Ff.subs(ff,sol[ff])\n",
    "Fg=Fg.subs(fg,sol[fg])"
   ]
  },
  {
   "cell_type": "code",
   "execution_count": 85,
   "id": "5e0585d5",
   "metadata": {},
   "outputs": [
    {
     "name": "stdout",
     "output_type": "stream",
     "text": [
      "Matrix([[204145.598055848], [237180.067559431], [0]])\n",
      "Matrix([[68255.6413517659], [-265947.285510844], [0]])\n",
      "Matrix([[-73634.9436512709], [-319314.195557767], [-26620.0798202188]])\n",
      "Matrix([[-197645.993756343], [302546.340709910], [25222.2038702188]])\n",
      "Matrix([[0], [46655.3747992700], [0]])\n",
      "Matrix([[0], [20760.1128980654], [-99150.2992011603]])\n"
     ]
    }
   ],
   "source": [
    "print(Fb)\n",
    "print(Fc)\n",
    "print(Fd)\n",
    "print(Fe)\n",
    "print(Ff)\n",
    "print(Fg)\n"
   ]
  },
  {
   "cell_type": "code",
   "execution_count": null,
   "id": "8b121b13",
   "metadata": {},
   "outputs": [],
   "source": [
    "Lower_Aft[0]=1+Lower_Aft[0]\n",
    "Lower_Fore[0]=1+Lower_Fore[0]\n",
    "Lower_Kingpin[0]=1+Lower_Kingpin[0]\n",
    "Upper_Aft[0]=1+Upper_Aft[0]\n",
    "Upper_Fore[0]=1+Upper_Fore[0]\n",
    "Upper_Kingpin[0]=1+Upper_Kingpin[0]\n",
    "Tierod_Kingpin[0]=1+Tierod_Kingpin[0]\n",
    "Tierod_Mount[0]=1+Tierod_Mount[0]\n",
    "SA_Chassis[0]=1+SA_Chassis[0]\n",
    "SA_Lowerarms[0]=1+SA_Lowerarms[0]\n",
    "Contact_Patch[0]=1+Contact_Patch[0]"
   ]
  }
 ],
 "metadata": {
  "kernelspec": {
   "display_name": "Python 3 (ipykernel)",
   "language": "python",
   "name": "python3"
  },
  "language_info": {
   "codemirror_mode": {
    "name": "ipython",
    "version": 3
   },
   "file_extension": ".py",
   "mimetype": "text/x-python",
   "name": "python",
   "nbconvert_exporter": "python",
   "pygments_lexer": "ipython3",
   "version": "3.10.6"
  }
 },
 "nbformat": 4,
 "nbformat_minor": 5
}
